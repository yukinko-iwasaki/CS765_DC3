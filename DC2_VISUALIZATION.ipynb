{
 "cells": [
  {
   "cell_type": "code",
   "execution_count": 8,
   "metadata": {},
   "outputs": [],
   "source": [
    "import numpy as np\n",
    "import matplotlib.image as mpimg\n",
    "import matplotlib.pyplot as plt\n",
    "from ipywidgets import interact\n",
    "import pandas as pd\n",
    "import nbinteract as nbi\n",
    "\n",
    "combined = pd.read_csv(\"combined.csv.gz\",compression = \"gzip\")\n",
    "## for word count\n",
    "def show_hist_word(Category = \"fashion\", wordcount = 10):\n",
    "    c = combined[combined.category == Category]\n",
    "    c = c[(c[\"word_count\"] < wordcount + 100) & (c[\"word_count\"] > wordcount - 100)].helpfulRate\n",
    "    return c\n",
    "\n",
    "def show_interactive_word(normalized = True):\n",
    "    if normalized:\n",
    "        options = {\n",
    "        \"title\" :\"Histogram of helfulness rate with different word counts of reviews\",\n",
    "        'xlabel': \"helpfulness\",\n",
    "        'xlim': (0, 1),\n",
    "        'ylim': (0, 5),\n",
    "        'bins': 10,\n",
    "        \"normalized\":normalized,    \n",
    "        }\n",
    "    else:\n",
    "        options = {\n",
    "        \"title\" :\"Histogram of helfulness rate with different word counts of reviews\",\n",
    "        'xlabel': \"helpfulness\",\n",
    "        'xlim': (0, 1),\n",
    "        'ylim': (0, 400),\n",
    "        'bins': 10,\n",
    "        \"normalized\":normalized,    \n",
    "        }\n",
    "    \n",
    "    return nbi.hist(show_hist_word, Category = [\"fashion\", \"movies and TV\", \"home and kitchen\", \"electronics\"],  wordcount =(1, 1000, 50), options=options)\n",
    "\n",
    "## for word count\n",
    "def show_hist_rate(Category = \"fashion\", stars = 1):\n",
    "    c = combined[combined.category == Category]\n",
    "    c = c[(c[\"overall\"] ==  stars)].helpfulRate\n",
    "    return c\n",
    "\n",
    "def show_interactive_rate(normalized = True):\n",
    "    if normalized:\n",
    "        options = {\n",
    "        \"title\" :\"Histogram of helfulness rate with rating of the review\",\n",
    "        'xlabel': \"helpfulness\",\n",
    "        'xlim': (0, 1),\n",
    "        'ylim': (0, 3),\n",
    "        'bins': 10,\n",
    "        \"normalized\":normalized,    \n",
    "        }\n",
    "\n",
    "    else:\n",
    "        options = {\n",
    "        \"title\" :\"Histogram of helfulness rate with rating of the review\",\n",
    "        'xlabel': \"helpfulness\",\n",
    "        'xlim': (0, 1),\n",
    "        'ylim': (0, 3000),\n",
    "        'bins': 10,\n",
    "        \"normalized\":normalized,    \n",
    "        }\n",
    " \n",
    "    plt.savefig(\"test\")\n",
    "    return nbi.hist(show_hist_rate, Category = [\"fashion\", \"movies and TV\", \"home and kitchen\", \"electronics\"],  stars =(1, 5, 1), options=options)\n",
    "\n",
    "\n",
    "def show_image(category = \"fashion\", HelpfulRate = 0):\n",
    "    i = int(HelpfulRate*10)\n",
    "    img = mpimg.imread(\"images/\" + category + str(i) +\".PNG\")\n",
    "    plt.imshow(img)\n",
    "    plt.axis(\"off\")\n",
    "    plt.show()\n",
    "\n"
   ]
  },
  {
   "cell_type": "markdown",
   "metadata": {},
   "source": [
    "## TASK 1 \n",
    "## What kind of information do the customers find useful? Find out from review text data\n"
   ]
  },
  {
   "cell_type": "code",
   "execution_count": 9,
   "metadata": {},
   "outputs": [
    {
     "data": {
      "application/vnd.jupyter.widget-view+json": {
       "model_id": "699a249152574c8eacbb42dcc37a4b5a",
       "version_major": 2,
       "version_minor": 0
      },
      "text/plain": [
       "interactive(children=(Dropdown(description='category', options=('fashion', 'video', 'home_kitchen', 'movies_an…"
      ]
     },
     "metadata": {},
     "output_type": "display_data"
    },
    {
     "data": {
      "text/plain": [
       "<function __main__.show_image(category='fashion', HelpfulRate=0)>"
      ]
     },
     "execution_count": 9,
     "metadata": {},
     "output_type": "execute_result"
    }
   ],
   "source": [
    "interact(show_image, HelpfulRate = (0,1,0.1), category = [\"fashion\", \"video\", \"home_kitchen\", \"movies_and_TV\"])"
   ]
  },
  {
   "cell_type": "markdown",
   "metadata": {},
   "source": [
    "   ## Task 2 Identify what kind of words appear in useful/not useful reviews "
   ]
  },
  {
   "cell_type": "markdown",
   "metadata": {},
   "source": [
    "### Helpfulness rate distribution by the review ratings"
   ]
  },
  {
   "cell_type": "code",
   "execution_count": 10,
   "metadata": {},
   "outputs": [
    {
     "data": {
      "application/vnd.jupyter.widget-view+json": {
       "model_id": "920d0a5b5ecd4dcfa6f373df31217cfe",
       "version_major": 2,
       "version_minor": 0
      },
      "text/plain": [
       "interactive(children=(Checkbox(value=True, description='normalized'), Output()), _dom_classes=('widget-interac…"
      ]
     },
     "metadata": {},
     "output_type": "display_data"
    },
    {
     "data": {
      "text/plain": [
       "<function __main__.show_interactive_word(normalized=True)>"
      ]
     },
     "execution_count": 10,
     "metadata": {},
     "output_type": "execute_result"
    }
   ],
   "source": [
    "interact(show_interactive_word, normalized = True)\n"
   ]
  },
  {
   "cell_type": "markdown",
   "metadata": {},
   "source": [
    "### Helpfulness rate distribution by the review word counts"
   ]
  },
  {
   "cell_type": "code",
   "execution_count": 18,
   "metadata": {},
   "outputs": [
    {
     "data": {
      "application/vnd.jupyter.widget-view+json": {
       "model_id": "a45c79d99f5b451597d67c9c20dc0a37",
       "version_major": 2,
       "version_minor": 0
      },
      "text/plain": [
       "interactive(children=(Checkbox(value=True, description='normalized'), Output()), _dom_classes=('widget-interac…"
      ]
     },
     "metadata": {},
     "output_type": "display_data"
    },
    {
     "data": {
      "text/plain": [
       "<function __main__.show_interactive_word(normalized=True)>"
      ]
     },
     "execution_count": 18,
     "metadata": {},
     "output_type": "execute_result"
    }
   ],
   "source": [
    "interact(show_interactive_word, normalized = True)"
   ]
  }
 ],
 "metadata": {
  "kernelspec": {
   "display_name": "Python 3",
   "language": "python",
   "name": "python3"
  },
  "language_info": {
   "codemirror_mode": {
    "name": "ipython",
    "version": 3
   },
   "file_extension": ".py",
   "mimetype": "text/x-python",
   "name": "python",
   "nbconvert_exporter": "python",
   "pygments_lexer": "ipython3",
   "version": "3.6.8"
  }
 },
 "nbformat": 4,
 "nbformat_minor": 2
}
