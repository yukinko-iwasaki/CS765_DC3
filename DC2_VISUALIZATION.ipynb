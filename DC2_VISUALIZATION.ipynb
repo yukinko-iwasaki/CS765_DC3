{
 "cells": [
  {
   "cell_type": "markdown",
   "metadata": {},
   "source": [
    "# Design Challenge 2\n",
    "## Yukiko Suzuki\n",
    "\n",
    "I am going to visualize Amazon review dataset from http://jmcauley.ucsd.edu/data/amazon/index.html.\n",
    "We will be analysing the review data older than the year 2013 which has at least one helpful/not helpful vote.\n",
    "\n",
    "\n",
    "I will be focusing on 2 tasks\n",
    "1. What kind of information would customers find useful on the product pages?\n",
    "2. What other non-textual characteristic determines a useful reviews"
   ]
  },
  {
   "cell_type": "markdown",
   "metadata": {},
   "source": [
    "### Reading data and necessary class\n",
    "### PLEASE RUN THE CELL BELOW FIRST"
   ]
  },
  {
   "cell_type": "code",
   "execution_count": null,
   "metadata": {},
   "outputs": [],
   "source": [
    "## reading data and loading necessary class\n",
    "import start\n",
    "import pandas as pd\n",
    "combined = pd.read_csv(\"combined.csv.gz\",compression = \"gzip\")\n",
    "vis = start.visualizer(combined)"
   ]
  },
  {
   "cell_type": "markdown",
   "metadata": {},
   "source": [
    "## TASK 1 \n",
    "## What kind of information would customers find useful on the product pages?\n",
    "### Approach \n",
    "We will assume that reviews which are voted to be helpful are more likely to contain information useful for the customers. \n",
    "We will create word cloud at different levels of helpfulness rate and find keywords which may give us some hints on what kind of information the customers are looking for on the product page.\n",
    "\n",
    "EX) If the word \"SIZE\" seems to appear frequently in the fashion reveiws voted to be helpful, we assume that customers may want more information about the size. Thus, we may redesign the product page to emphasize the size information. "
   ]
  },
  {
   "cell_type": "code",
   "execution_count": 9,
   "metadata": {},
   "outputs": [
    {
     "data": {
      "application/vnd.jupyter.widget-view+json": {
       "model_id": "699a249152574c8eacbb42dcc37a4b5a",
       "version_major": 2,
       "version_minor": 0
      },
      "text/plain": [
       "interactive(children=(Dropdown(description='category', options=('fashion', 'video', 'home_kitchen', 'movies_an…"
      ]
     },
     "metadata": {},
     "output_type": "display_data"
    },
    {
     "data": {
      "text/plain": [
       "<function __main__.show_image(category='fashion', HelpfulRate=0)>"
      ]
     },
     "execution_count": 9,
     "metadata": {},
     "output_type": "execute_result"
    }
   ],
   "source": [
    "vis.show_interaction_image()"
   ]
  },
  {
   "cell_type": "markdown",
   "metadata": {},
   "source": [
    "## Task 2 \n",
    "##  What other non-textual characteristic determines a useful reviews?\n",
    "Here, we will find out what other non-textual information may help us distinguish helpful reviews from non-helpful reviews. I will focus on the 2 characteristics:\n",
    "1. Rating of reviews(how many stars)\n",
    "2. Word count of reviews\n",
    "\n",
    "This may help us sort the order of the new reviews on the product page. If we know that a new review seem to have the characteritic of helpful review , we may want to place on the top of the review section."
   ]
  },
  {
   "cell_type": "markdown",
   "metadata": {},
   "source": [
    "### Helpfulness rate distribution at different number of stars"
   ]
  },
  {
   "cell_type": "code",
   "execution_count": 11,
   "metadata": {},
   "outputs": [
    {
     "data": {
      "application/vnd.jupyter.widget-view+json": {
       "model_id": "29009b82dfa448b2bee46df8be54b17c",
       "version_major": 2,
       "version_minor": 0
      },
      "text/plain": [
       "interactive(children=(Checkbox(value=True, description='normalized'), Output()), _dom_classes=('widget-interac…"
      ]
     },
     "metadata": {},
     "output_type": "display_data"
    },
    {
     "data": {
      "text/plain": [
       "<function __main__.show_interactive_rate(normalized=True)>"
      ]
     },
     "execution_count": 11,
     "metadata": {},
     "output_type": "execute_result"
    }
   ],
   "source": [
    "vis.show_interaction_hist_rate()\n"
   ]
  },
  {
   "cell_type": "markdown",
   "metadata": {},
   "source": [
    "### Helpfulness rate distribution at different the review word counts"
   ]
  },
  {
   "cell_type": "code",
   "execution_count": 14,
   "metadata": {},
   "outputs": [
    {
     "data": {
      "application/vnd.jupyter.widget-view+json": {
       "model_id": "17087299ed044c73bdc7bf09cada2c96",
       "version_major": 2,
       "version_minor": 0
      },
      "text/plain": [
       "interactive(children=(Checkbox(value=True, description='normalized'), Output()), _dom_classes=('widget-interac…"
      ]
     },
     "metadata": {},
     "output_type": "display_data"
    },
    {
     "data": {
      "text/plain": [
       "<function __main__.show_interactive_word(normalized=True)>"
      ]
     },
     "execution_count": 14,
     "metadata": {},
     "output_type": "execute_result"
    }
   ],
   "source": [
    "vis.show_interaction_hist_count()"
   ]
  }
 ],
 "metadata": {
  "kernelspec": {
   "display_name": "Python 3",
   "language": "python",
   "name": "python3"
  },
  "language_info": {
   "codemirror_mode": {
    "name": "ipython",
    "version": 3
   },
   "file_extension": ".py",
   "mimetype": "text/x-python",
   "name": "python",
   "nbconvert_exporter": "python",
   "pygments_lexer": "ipython3",
   "version": "3.6.8"
  }
 },
 "nbformat": 4,
 "nbformat_minor": 2
}
