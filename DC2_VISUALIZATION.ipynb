{
 "cells": [
  {
   "cell_type": "markdown",
   "metadata": {},
   "source": [
    "## Download necessary packages and definning methods"
   ]
  },
  {
   "cell_type": "code",
   "execution_count": 21,
   "metadata": {},
   "outputs": [
    {
     "name": "stdout",
     "output_type": "stream",
     "text": [
      "Requirement already satisfied: ipywidgets in c:\\users\\owner\\anaconda3\\lib\\site-packages (7.5.1)\n",
      "Requirement already satisfied: widgetsnbextension~=3.5.0 in c:\\users\\owner\\anaconda3\\lib\\site-packages (from ipywidgets) (3.5.1)\n",
      "Requirement already satisfied: nbformat>=4.2.0 in c:\\users\\owner\\anaconda3\\lib\\site-packages (from ipywidgets) (4.4.0)\n",
      "Requirement already satisfied: ipykernel>=4.5.1 in c:\\users\\owner\\anaconda3\\lib\\site-packages (from ipywidgets) (5.1.0)\n",
      "Requirement already satisfied: traitlets>=4.3.1 in c:\\users\\owner\\anaconda3\\lib\\site-packages (from ipywidgets) (4.3.2)\n",
      "Requirement already satisfied: ipython>=4.0.0; python_version >= \"3.3\" in c:\\users\\owner\\anaconda3\\lib\\site-packages (from ipywidgets) (7.4.0)\n",
      "Requirement already satisfied: notebook>=4.4.1 in c:\\users\\owner\\anaconda3\\lib\\site-packages (from widgetsnbextension~=3.5.0->ipywidgets) (5.7.8)\n",
      "Requirement already satisfied: ipython_genutils in c:\\users\\owner\\anaconda3\\lib\\site-packages (from nbformat>=4.2.0->ipywidgets) (0.2.0)\n",
      "Requirement already satisfied: jsonschema!=2.5.0,>=2.4 in c:\\users\\owner\\anaconda3\\lib\\site-packages (from nbformat>=4.2.0->ipywidgets) (3.0.1)\n",
      "Requirement already satisfied: jupyter_core in c:\\users\\owner\\anaconda3\\lib\\site-packages (from nbformat>=4.2.0->ipywidgets) (4.4.0)\n",
      "Requirement already satisfied: jupyter-client in c:\\users\\owner\\anaconda3\\lib\\site-packages (from ipykernel>=4.5.1->ipywidgets) (5.2.4)\n",
      "Requirement already satisfied: tornado>=4.2 in c:\\users\\owner\\anaconda3\\lib\\site-packages (from ipykernel>=4.5.1->ipywidgets) (6.0.2)\n",
      "Requirement already satisfied: six in c:\\users\\owner\\anaconda3\\lib\\site-packages (from traitlets>=4.3.1->ipywidgets) (1.12.0)\n",
      "Requirement already satisfied: decorator in c:\\users\\owner\\anaconda3\\lib\\site-packages (from traitlets>=4.3.1->ipywidgets) (4.4.0)\n",
      "Requirement already satisfied: jedi>=0.10 in c:\\users\\owner\\anaconda3\\lib\\site-packages (from ipython>=4.0.0; python_version >= \"3.3\"->ipywidgets) (0.13.3)\n",
      "Requirement already satisfied: setuptools>=18.5 in c:\\users\\owner\\anaconda3\\lib\\site-packages (from ipython>=4.0.0; python_version >= \"3.3\"->ipywidgets) (41.0.1)\n",
      "Requirement already satisfied: pygments in c:\\users\\owner\\anaconda3\\lib\\site-packages (from ipython>=4.0.0; python_version >= \"3.3\"->ipywidgets) (2.3.1)\n",
      "Requirement already satisfied: colorama; sys_platform == \"win32\" in c:\\users\\owner\\anaconda3\\lib\\site-packages (from ipython>=4.0.0; python_version >= \"3.3\"->ipywidgets) (0.4.1)\n",
      "Requirement already satisfied: pickleshare in c:\\users\\owner\\anaconda3\\lib\\site-packages (from ipython>=4.0.0; python_version >= \"3.3\"->ipywidgets) (0.7.5)\n",
      "Requirement already satisfied: prompt-toolkit<2.1.0,>=2.0.0 in c:\\users\\owner\\anaconda3\\lib\\site-packages (from ipython>=4.0.0; python_version >= \"3.3\"->ipywidgets) (2.0.9)\n",
      "Requirement already satisfied: backcall in c:\\users\\owner\\anaconda3\\lib\\site-packages (from ipython>=4.0.0; python_version >= \"3.3\"->ipywidgets) (0.1.0)\n",
      "Requirement already satisfied: Send2Trash in c:\\users\\owner\\anaconda3\\lib\\site-packages (from notebook>=4.4.1->widgetsnbextension~=3.5.0->ipywidgets) (1.5.0)\n",
      "Requirement already satisfied: nbconvert in c:\\users\\owner\\anaconda3\\lib\\site-packages (from notebook>=4.4.1->widgetsnbextension~=3.5.0->ipywidgets) (5.4.1)\n",
      "Requirement already satisfied: pyzmq>=17 in c:\\users\\owner\\anaconda3\\lib\\site-packages (from notebook>=4.4.1->widgetsnbextension~=3.5.0->ipywidgets) (18.0.0)\n",
      "Requirement already satisfied: terminado>=0.8.1 in c:\\users\\owner\\anaconda3\\lib\\site-packages (from notebook>=4.4.1->widgetsnbextension~=3.5.0->ipywidgets) (0.8.1)\n",
      "Requirement already satisfied: prometheus-client in c:\\users\\owner\\anaconda3\\lib\\site-packages (from notebook>=4.4.1->widgetsnbextension~=3.5.0->ipywidgets) (0.6.0)\n",
      "Requirement already satisfied: jinja2 in c:\\users\\owner\\anaconda3\\lib\\site-packages (from notebook>=4.4.1->widgetsnbextension~=3.5.0->ipywidgets) (2.10)\n",
      "Requirement already satisfied: attrs>=17.4.0 in c:\\users\\owner\\anaconda3\\lib\\site-packages (from jsonschema!=2.5.0,>=2.4->nbformat>=4.2.0->ipywidgets) (19.1.0)\n",
      "Requirement already satisfied: pyrsistent>=0.14.0 in c:\\users\\owner\\anaconda3\\lib\\site-packages (from jsonschema!=2.5.0,>=2.4->nbformat>=4.2.0->ipywidgets) (0.14.11)\n",
      "Requirement already satisfied: python-dateutil>=2.1 in c:\\users\\owner\\anaconda3\\lib\\site-packages (from jupyter-client->ipykernel>=4.5.1->ipywidgets) (2.8.0)\n",
      "Requirement already satisfied: parso>=0.3.0 in c:\\users\\owner\\anaconda3\\lib\\site-packages (from jedi>=0.10->ipython>=4.0.0; python_version >= \"3.3\"->ipywidgets) (0.3.4)\n",
      "Requirement already satisfied: wcwidth in c:\\users\\owner\\anaconda3\\lib\\site-packages (from prompt-toolkit<2.1.0,>=2.0.0->ipython>=4.0.0; python_version >= \"3.3\"->ipywidgets) (0.1.7)\n",
      "Requirement already satisfied: mistune>=0.8.1 in c:\\users\\owner\\anaconda3\\lib\\site-packages (from nbconvert->notebook>=4.4.1->widgetsnbextension~=3.5.0->ipywidgets) (0.8.4)\n",
      "Requirement already satisfied: entrypoints>=0.2.2 in c:\\users\\owner\\anaconda3\\lib\\site-packages (from nbconvert->notebook>=4.4.1->widgetsnbextension~=3.5.0->ipywidgets) (0.3)\n",
      "Requirement already satisfied: bleach in c:\\users\\owner\\anaconda3\\lib\\site-packages (from nbconvert->notebook>=4.4.1->widgetsnbextension~=3.5.0->ipywidgets) (3.1.0)\n",
      "Requirement already satisfied: pandocfilters>=1.4.1 in c:\\users\\owner\\anaconda3\\lib\\site-packages (from nbconvert->notebook>=4.4.1->widgetsnbextension~=3.5.0->ipywidgets) (1.4.2)\n",
      "Requirement already satisfied: testpath in c:\\users\\owner\\anaconda3\\lib\\site-packages (from nbconvert->notebook>=4.4.1->widgetsnbextension~=3.5.0->ipywidgets) (0.4.2)\n",
      "Requirement already satisfied: defusedxml in c:\\users\\owner\\anaconda3\\lib\\site-packages (from nbconvert->notebook>=4.4.1->widgetsnbextension~=3.5.0->ipywidgets) (0.5.0)\n",
      "Requirement already satisfied: MarkupSafe>=0.23 in c:\\users\\owner\\anaconda3\\lib\\site-packages (from jinja2->notebook>=4.4.1->widgetsnbextension~=3.5.0->ipywidgets) (1.1.1)\n",
      "Requirement already satisfied: webencodings in c:\\users\\owner\\anaconda3\\lib\\site-packages (from bleach->nbconvert->notebook>=4.4.1->widgetsnbextension~=3.5.0->ipywidgets) (0.5.1)\n",
      "Requirement already satisfied: matplotlib in c:\\users\\owner\\anaconda3\\lib\\site-packages (3.0.3)\n",
      "Requirement already satisfied: numpy>=1.10.0 in c:\\users\\owner\\anaconda3\\lib\\site-packages (from matplotlib) (1.16.2)\n",
      "Requirement already satisfied: cycler>=0.10 in c:\\users\\owner\\anaconda3\\lib\\site-packages (from matplotlib) (0.10.0)\n",
      "Requirement already satisfied: kiwisolver>=1.0.1 in c:\\users\\owner\\anaconda3\\lib\\site-packages (from matplotlib) (1.0.1)\n",
      "Requirement already satisfied: pyparsing!=2.0.4,!=2.1.2,!=2.1.6,>=2.0.1 in c:\\users\\owner\\anaconda3\\lib\\site-packages (from matplotlib) (2.3.1)\n",
      "Requirement already satisfied: python-dateutil>=2.1 in c:\\users\\owner\\anaconda3\\lib\\site-packages (from matplotlib) (2.8.0)\n",
      "Requirement already satisfied: six in c:\\users\\owner\\anaconda3\\lib\\site-packages (from cycler>=0.10->matplotlib) (1.12.0)\n",
      "Requirement already satisfied: setuptools in c:\\users\\owner\\anaconda3\\lib\\site-packages (from kiwisolver>=1.0.1->matplotlib) (41.0.1)\n"
     ]
    }
   ],
   "source": [
    "!pip install ipywidgets\n",
    "!pip install matplotlib\n",
    "import numpy as np\n",
    "import matplotlib.image as mpimg\n",
    "import matplotlib.pyplot as plt\n",
    "from ipywidgets import interact\n",
    "import pandas as pd\n",
    "combined = pd.read_csv(\"combined.csv.gz\", compression = \"gzip\")\n"
   ]
  },
  {
   "cell_type": "code",
   "execution_count": 22,
   "metadata": {},
   "outputs": [],
   "source": [
    "## for word count\n",
    "def show_hist_word(Category = \"fashion\", wordcount = 10):\n",
    "    c = combined[combined.category == Category]\n",
    "    c = c[(c[\"word_count\"] < wordcount + 100) & (c[\"word_count\"] > wordcount - 100)].helpfulRate\n",
    "    return c\n",
    "\n",
    "def show_interactive_word(normalized = True):\n",
    "    if normalized:\n",
    "        options = {\n",
    "        \"title\" :\"Histogram of helfulness rate with different word counts of reviews\",\n",
    "        'xlabel': \"helpfulness\",\n",
    "        'xlim': (0, 1),\n",
    "        'ylim': (0, 5),\n",
    "        'bins': 10,\n",
    "        \"normalized\":normalized,    \n",
    "        }\n",
    "    else:\n",
    "        options = {\n",
    "        \"title\" :\"Histogram of helfulness rate with different word counts of reviews\",\n",
    "        'xlabel': \"helpfulness\",\n",
    "        'xlim': (0, 1),\n",
    "        'ylim': (0, 400),\n",
    "        'bins': 10,\n",
    "        \"normalized\":normalized,    \n",
    "        }\n",
    "    \n",
    "    return nbi.hist(show_hist_word, Category = [\"fashion\", \"movies and TV\", \"home and kitchen\", \"electronics\"],  wordcount =(1, 1000, 50), options=options)\n",
    "\n",
    "## for word count\n",
    "def show_hist_rate(Category = \"fashion\", stars = 1):\n",
    "    c = combined[combined.category == Category]\n",
    "    c = c[(c[\"overall\"] ==  stars)].helpfulRate\n",
    "    return c\n",
    "\n",
    "def show_interactive_rate(normalized = True):\n",
    "    if normalized:\n",
    "        options = {\n",
    "        \"title\" :\"Histogram of helfulness rate with rating of the review\",\n",
    "        'xlabel': \"helpfulness\",\n",
    "        'xlim': (0, 1),\n",
    "        'ylim': (0, 3),\n",
    "        'bins': 10,\n",
    "        \"normalized\":normalized,    \n",
    "        }\n",
    "\n",
    "    else:\n",
    "        options = {\n",
    "        \"title\" :\"Histogram of helfulness rate with rating of the review\",\n",
    "        'xlabel': \"helpfulness\",\n",
    "        'xlim': (0, 1),\n",
    "        'ylim': (0, 3000),\n",
    "        'bins': 10,\n",
    "        \"normalized\":normalized,    \n",
    "        }\n",
    " \n",
    "    plt.savefig(\"test\")\n",
    "    return nbi.hist(show_hist_rate, Category = [\"fashion\", \"movies and TV\", \"home and kitchen\", \"electronics\"],  stars =(1, 5, 1), options=options)\n",
    "\n",
    "\n",
    "def show_image(category = \"fashion\", HelpfulRate = 0):\n",
    "    i = int(HelpfulRate*10)\n",
    "    img = mpimg.imread(\"images/\" + category + str(i) +\".PNG\")\n",
    "    plt.imshow(img)\n",
    "    plt.axis(\"off\")\n",
    "    plt.show()"
   ]
  },
  {
   "cell_type": "markdown",
   "metadata": {},
   "source": [
    "## TASK 1 \n",
    "## What kind of information do the customers find useful? Find out from review text data\n"
   ]
  },
  {
   "cell_type": "code",
   "execution_count": 23,
   "metadata": {},
   "outputs": [
    {
     "data": {
      "application/vnd.jupyter.widget-view+json": {
       "model_id": "385b3d538e6742d28fee91a4d46cb588",
       "version_major": 2,
       "version_minor": 0
      },
      "text/plain": [
       "interactive(children=(Dropdown(description='category', options=('fashion', 'video', 'home_kitchen', 'movies_an…"
      ]
     },
     "metadata": {},
     "output_type": "display_data"
    },
    {
     "data": {
      "text/plain": [
       "<function __main__.show_image(category='fashion', HelpfulRate=0)>"
      ]
     },
     "execution_count": 23,
     "metadata": {},
     "output_type": "execute_result"
    }
   ],
   "source": [
    "interact(show_image, HelpfulRate = (0,1,0.1), category = [\"fashion\", \"video\", \"home_kitchen\", \"movies_and_TV\"])"
   ]
  },
  {
   "cell_type": "markdown",
   "metadata": {},
   "source": [
    "   ## Task 2 Identify what kind of words appear in useful/not useful reviews "
   ]
  },
  {
   "cell_type": "markdown",
   "metadata": {},
   "source": [
    "### Helpfulness rate distribution by the review ratings"
   ]
  },
  {
   "cell_type": "code",
   "execution_count": 17,
   "metadata": {},
   "outputs": [
    {
     "data": {
      "application/vnd.jupyter.widget-view+json": {
       "model_id": "6c2eadb58f664a3bb9eb6eb10899da01",
       "version_major": 2,
       "version_minor": 0
      },
      "text/plain": [
       "interactive(children=(Checkbox(value=True, description='normalized'), Output()), _dom_classes=('widget-interac…"
      ]
     },
     "metadata": {},
     "output_type": "display_data"
    },
    {
     "data": {
      "text/plain": [
       "<function __main__.show_interactive_word(normalized=True)>"
      ]
     },
     "execution_count": 17,
     "metadata": {},
     "output_type": "execute_result"
    }
   ],
   "source": [
    "interact(show_interactive_word, normalized = True)\n"
   ]
  },
  {
   "cell_type": "markdown",
   "metadata": {},
   "source": [
    "### Helpfulness rate distribution by the review word counts"
   ]
  },
  {
   "cell_type": "code",
   "execution_count": 18,
   "metadata": {},
   "outputs": [
    {
     "data": {
      "application/vnd.jupyter.widget-view+json": {
       "model_id": "a45c79d99f5b451597d67c9c20dc0a37",
       "version_major": 2,
       "version_minor": 0
      },
      "text/plain": [
       "interactive(children=(Checkbox(value=True, description='normalized'), Output()), _dom_classes=('widget-interac…"
      ]
     },
     "metadata": {},
     "output_type": "display_data"
    },
    {
     "data": {
      "text/plain": [
       "<function __main__.show_interactive_word(normalized=True)>"
      ]
     },
     "execution_count": 18,
     "metadata": {},
     "output_type": "execute_result"
    }
   ],
   "source": [
    "interact(show_interactive_word, normalized = True)"
   ]
  }
 ],
 "metadata": {
  "kernelspec": {
   "display_name": "Python 3",
   "language": "python",
   "name": "python3"
  },
  "language_info": {
   "codemirror_mode": {
    "name": "ipython",
    "version": 3
   },
   "file_extension": ".py",
   "mimetype": "text/x-python",
   "name": "python",
   "nbconvert_exporter": "python",
   "pygments_lexer": "ipython3",
   "version": "3.6.8"
  }
 },
 "nbformat": 4,
 "nbformat_minor": 2
}
